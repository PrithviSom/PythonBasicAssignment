{
 "cells": [
  {
   "cell_type": "markdown",
   "id": "a57e350b",
   "metadata": {},
   "source": [
    "1. What is Python, and why is it popular?\n",
    "\n",
    "Ans: Python is a high-level, general-purpose programming language created by Guido van Rossum and first released in 1991.\n",
    "\n",
    "1. Easy to Learn and Read : Python’s syntax is clean and looks like plain English, making it beginner-friendly.\n",
    "2. Versatile and Powerful: It’s used in web development, data science, machine learning, automation, and more.\n",
    "3. Huge Library Support :Python has thousands of libraries that simplify complex tasks (like Pandas, NumPy, TensorFlow).\n",
    "4. Strong Community: A massive global community means lots of tutorials, forums, and support.\n",
    "5. Fast Prototyping: Developers can build and test ideas quickly, which is great for startups and research.\n",
    "\n"
   ]
  },
  {
   "cell_type": "markdown",
   "id": "fdd92984",
   "metadata": {},
   "source": [
    "2.  What is an interpreter in Python ?\n",
    "\n",
    "Ans: An interpreter in Python is a program that reads and executes Python code line by line. \n",
    "When a Python program runs, the interpreter first converts the code into an intermediate form called bytecode. This bytecode is then executed by the Python Virtual Machine (PVM), which performs the actual operations. Python’s interpreter-based architecture supports both interactive and script-based execution, making it suitable for rapid development and experimentation.\n"
   ]
  },
  {
   "cell_type": "markdown",
   "id": "3c9ac7a8",
   "metadata": {},
   "source": [
    "3.  What are pre-defined keywords in Python ?\n",
    "\n",
    "Ans: Pre-defined keywords in Python are reserved words that have special meaning in the language. These keywords are part of Python’s syntax and structure, and they cannot be used as variable names, function names, or identifiers\n"
   ]
  },
  {
   "cell_type": "markdown",
   "id": "2af85f9a",
   "metadata": {},
   "source": [
    "4.  Can keywords be used as variable name ?\n",
    "\n",
    "Ans: No, keywords cannot be used as variable names in Python.\n",
    "Keywords are reserved words that have special meaning in the language’s syntax. Using them as variable names will result in a SyntaxError, because Python expects those words to perform specific functions.\n"
   ]
  },
  {
   "cell_type": "markdown",
   "id": "afdb77fb",
   "metadata": {},
   "source": [
    "5.  What is mutability in Python?\n",
    "\n",
    "Ans: Mutability in Python refers to an object’s ability to be changed after it is created. If an object is mutable, you can modify its contents (like adding, removing, or updating elements) without changing its identity. If it’s immutable, any change creates a new object entirely.\n"
   ]
  },
  {
   "cell_type": "markdown",
   "id": "47e2158a",
   "metadata": {},
   "source": [
    "6.  Why are lists mutable, but tuples are immutable?\n",
    "\n",
    "Ans: Lists are designed to be flexible and dynamic. They allow modification after creation—elements can be added, removed, or changed. This mutability makes lists ideal for situations where the data needs to be updated frequently, such as in loops, dynamic data structures, or when collecting user input. Their internal structure supports efficient resizing and element manipulation.\n",
    "On the other hand, tuples are meant to be fixed collections of items. Once a tuple is created, its contents cannot be changed. This immutability provides several advantages: tuples are faster to process, they require less memory, and they can be used as keys in dictionaries or elements in sets because they are hashable. If tuples were mutable, their hash values could change, which would break the integrity of data structures that rely on consistent hashing.\n"
   ]
  },
  {
   "cell_type": "markdown",
   "id": "49fcc67a",
   "metadata": {},
   "source": [
    "7.  What is the difference between “==” and “is” operators in Python\n",
    "\n",
    "Ans: The == operator checks whether two objects have the same value. It compares the contents of the objects to determine if they are equal. This is known as value equality.\n",
    "On the other hand, the is operator checks whether two variables point to the exact same object in memory. This is called identity equality. Even if two objects have the same value, they may still be stored in different memory locations, in which case is would return false.\n"
   ]
  },
  {
   "cell_type": "markdown",
   "id": "fa9e6fc9",
   "metadata": {},
   "source": [
    "8.  What are logical operators in Python\n",
    "\n",
    "Ans: Logical operators in Python are used to combine or modify Boolean expressions—expressions that evaluate to either True or False. They help control the flow of decisions in your code by allowing you to test multiple conditions at once.\n",
    "\n",
    " Types of Logical Operators in Python\n",
    "1. and :-\n",
    "Returns True only if both conditions are true.\n",
    "Used when you want all conditions to be satisfied.\n",
    "2. or :-\n",
    "Returns True if at least one condition is true.\n",
    "Used when any one condition being true is enough.\n",
    "3. not :-\n",
    "Reverses the Boolean value.\n",
    "Turns True into False, and False into True.\n"
   ]
  },
  {
   "cell_type": "markdown",
   "id": "040805e3",
   "metadata": {},
   "source": [
    "9.  What is type casting in Python?\n",
    "\n",
    "Ans: Type casting in Python is the process of converting a value from one data type to another. It allows you to change how data is interpreted and used in program—like turning a string into a number, or a float into an integer.\n"
   ]
  },
  {
   "cell_type": "markdown",
   "id": "5b0b7adf",
   "metadata": {},
   "source": [
    "10. What is the difference between implicit and explicit type casting?\n",
    "\n",
    "Ans: 1. Implicit Type Casting\n",
    "Python automatically converts one data type to another when needed. For example, if you add an integer and a float, Python will convert the integer to a float to avoid data loss.\n",
    "\n",
    "2. Explicit Type Casting\n",
    "You manually convert a value using built-in functions like:\n",
    "- int() – converts to integer\n",
    "- float() – converts to float\n",
    "- str() – converts to string\n",
    "- bool() – converts to boolean"
   ]
  },
  {
   "cell_type": "markdown",
   "id": "bac4cfb4",
   "metadata": {},
   "source": [
    "11.  What is the purpose of conditional statements in Python ?\n",
    "\n",
    "Ans: Conditional statements in Python are used to control the flow of a program based on specific conditions. They allow the program to make decisions and execute different blocks of code depending on whether a condition is true or false.\n",
    "\n",
    "- Decision Making:-\n",
    "They help the program choose between multiple paths. For example, whether to approve a login or deny access based on credentials.\n",
    "- Dynamic Behavior:-\n",
    "Conditional logic makes programs responsive to user input, data values, or system states.\n",
    "- Code Efficiency:-\n",
    "Instead of writing repetitive code, you can use conditions to handle multiple scenarios with fewer lines.\n",
    "- Error Handling and Validation :-\n",
    "You can check for invalid inputs or unexpected states and respond appropriately.\n",
    "- Real-World Logic Simulation:-\n",
    "Conditional statements mimic real-life decision-making, like “If it’s raining, take an umbrella; else, wear sunglasses.”"
   ]
  },
  {
   "cell_type": "markdown",
   "id": "fd331071",
   "metadata": {},
   "source": [
    "12.  How does the elif statement work ?\n",
    "\n",
    "Ans: The elif statement in Python is used to handle multiple conditions in a structured and readable way. It stands for “else if”, and is placed between an if and an else block.\n",
    "\n",
    "When Python encounters an if statement, it checks the condition:\n",
    "- If the condition is True, it executes that block and skips the rest.\n",
    "- If the condition is False, it moves to the next elif and checks that condition.\n",
    "- This continues until a condition is True, or it reaches the final else block.\n",
    "Only one block will be executed—the first one whose condition is True. If none are true, the else block runs (if present)."
   ]
  },
  {
   "cell_type": "markdown",
   "id": "dea187bc",
   "metadata": {},
   "source": [
    "13. What is the difference between for and while loops?\n",
    "\n",
    "Ans: In Python, both for and while loops are used to repeat a block of code, but they differ in how and when they execute. The for loop is typically used when the number of iterations is known beforehand. It is ideal for iterating over sequences such as lists, tuples, strings, or ranges. This makes the for loop structured and predictable, as it automatically handles the loop counter and stops when the sequence ends.\n",
    "\n",
    "On the other hand, the while loop is used when the number of iterations is not known in advance. It continues to execute as long as a specified condition remains true. This makes it more flexible but also requires careful handling to avoid infinite loops. The while loop is useful in situations where the repetition depends on dynamic conditions, such as user input or real-time data.\n"
   ]
  },
  {
   "cell_type": "markdown",
   "id": "2a0d7659",
   "metadata": {},
   "source": [
    "14. Describe a scenario where a while loop is more suitable than a for loop.\n",
    "\n",
    "Ans: A while loop is more suitable than a for loop when the number of iterations is not known in advance and depends on a changing condition during runtime. For example, consider a situation where a program is waiting for a user to enter a valid password. The program should keep prompting the user until the correct password is entered. In this case, the loop must continue running until the condition—“password is correct”—becomes true.\n",
    "Using a for loop here would be inappropriate because we don’t know how many attempts the user will take. The while loop allows the program to remain flexible and responsive, repeating the prompt as many times as needed without setting a fixed limit. This kind of indefinite repetition based on a condition is exactly what while loops are designed for.\n"
   ]
  },
  {
   "cell_type": "code",
   "execution_count": 37,
   "id": "53ed13b0",
   "metadata": {},
   "outputs": [
    {
     "name": "stdout",
     "output_type": "stream",
     "text": [
      "Hello, World!\n"
     ]
    }
   ],
   "source": [
    "# 1. Write a Python program to print \"Hello, World!\"\n",
    "\n",
    "# answer\n",
    "print(\"Hello, World!\")"
   ]
  },
  {
   "cell_type": "code",
   "execution_count": 33,
   "id": "fc948785",
   "metadata": {},
   "outputs": [
    {
     "name": "stdout",
     "output_type": "stream",
     "text": [
      "student name:  Prithvi Som\n",
      "student age: 23\n"
     ]
    }
   ],
   "source": [
    "# 2.  Write a Python program that displays your name and age\n",
    "\n",
    "# answer\n",
    "student_name = input(\"Enter the name of student: \")\n",
    "student_age = int(input(\"Enter the age of the student: \"))\n",
    "\n",
    "print(\"student name: \" , student_name)\n",
    "print(\"student age:\" , student_age)"
   ]
  },
  {
   "cell_type": "code",
   "execution_count": 34,
   "id": "7ae78903",
   "metadata": {},
   "outputs": [
    {
     "name": "stdout",
     "output_type": "stream",
     "text": [
      "Python Keywords:\n",
      "False\n",
      "None\n",
      "True\n",
      "and\n",
      "as\n",
      "assert\n",
      "async\n",
      "await\n",
      "break\n",
      "class\n",
      "continue\n",
      "def\n",
      "del\n",
      "elif\n",
      "else\n",
      "except\n",
      "finally\n",
      "for\n",
      "from\n",
      "global\n",
      "if\n",
      "import\n",
      "in\n",
      "is\n",
      "lambda\n",
      "nonlocal\n",
      "not\n",
      "or\n",
      "pass\n",
      "raise\n",
      "return\n",
      "try\n",
      "while\n",
      "with\n",
      "yield\n"
     ]
    }
   ],
   "source": [
    "# 3. Write code to print all the pre-defined keywords in Python using the keyword library\n",
    "\n",
    "# answer\n",
    "import keyword\n",
    "\n",
    "print(\"Python Keywords:\")\n",
    "for kw in keyword.kwlist:\n",
    "    print(kw)\n"
   ]
  },
  {
   "cell_type": "code",
   "execution_count": 35,
   "id": "a5c0dfb7",
   "metadata": {},
   "outputs": [
    {
     "name": "stdout",
     "output_type": "stream",
     "text": [
      "'if' is a Python keyword.\n"
     ]
    }
   ],
   "source": [
    "# 4.  Write a program that checks if a given word is a Python keyword.\n",
    "\n",
    "# answer\n",
    "import keyword\n",
    "\n",
    "word = input(\"Enter a word to check: \")\n",
    "\n",
    "if keyword.iskeyword(word):\n",
    "    print(f\"'{word}' is a Python keyword.\")\n",
    "else:\n",
    "    print(f\"'{word}' is NOT a Python keyword.\")\n"
   ]
  },
  {
   "cell_type": "code",
   "execution_count": 36,
   "id": "ec64dc47",
   "metadata": {},
   "outputs": [
    {
     "name": "stdout",
     "output_type": "stream",
     "text": [
      "list before updation:  [10, 20, 30]\n",
      "list after updation:  [10, 99, 30]\n",
      "tuple before updation:  (10, 20, 30)\n"
     ]
    },
    {
     "ename": "TypeError",
     "evalue": "'tuple' object does not support item assignment",
     "output_type": "error",
     "traceback": [
      "\u001b[1;31m---------------------------------------------------------------------------\u001b[0m",
      "\u001b[1;31mTypeError\u001b[0m                                 Traceback (most recent call last)",
      "Cell \u001b[1;32mIn[36], line 12\u001b[0m\n\u001b[0;32m      9\u001b[0m \u001b[38;5;28mprint\u001b[39m(\u001b[38;5;124m\"\u001b[39m\u001b[38;5;124mlist after updation: \u001b[39m\u001b[38;5;124m\"\u001b[39m, my_list)\n\u001b[0;32m     11\u001b[0m \u001b[38;5;28mprint\u001b[39m(\u001b[38;5;124m\"\u001b[39m\u001b[38;5;124mtuple before updation: \u001b[39m\u001b[38;5;124m\"\u001b[39m, my_tuple)\n\u001b[1;32m---> 12\u001b[0m \u001b[43mmy_tuple\u001b[49m\u001b[43m[\u001b[49m\u001b[38;5;241;43m1\u001b[39;49m\u001b[43m]\u001b[49m \u001b[38;5;241m=\u001b[39m \u001b[38;5;241m99\u001b[39m  \u001b[38;5;66;03m# raises TypeError\u001b[39;00m\n",
      "\u001b[1;31mTypeError\u001b[0m: 'tuple' object does not support item assignment"
     ]
    }
   ],
   "source": [
    "# 5. Create a list and tuple in Python, and demonstrate how attempting to change an element works differently for each.\n",
    "\n",
    "# answer\n",
    "my_list = [10,20,30]\n",
    "my_tuple = (10,20,30)\n",
    "\n",
    "print(\"list before updation: \", my_list)\n",
    "my_list[1] = 99\n",
    "print(\"list after updation: \", my_list)\n",
    "\n",
    "print(\"tuple before updation: \", my_tuple)\n",
    "my_tuple[1] = 99  # raises TypeError\n",
    "\n"
   ]
  },
  {
   "cell_type": "code",
   "execution_count": null,
   "id": "f108a61b",
   "metadata": {},
   "outputs": [
    {
     "name": "stdout",
     "output_type": "stream",
     "text": [
      "Inside function - num: 15\n",
      "Inside function - num_list: [1, 2, 3, 10]\n",
      "Outside function - x: 5\n",
      "Outside function - lst: [1, 2, 3, 10]\n"
     ]
    }
   ],
   "source": [
    "# 6.  Write a function to demonstrate the behavior of mutable and immutable arguments\n",
    "\n",
    "# answer\n",
    "def modify_values(num, num_list):\n",
    "    num += 10\n",
    "    print(\"Inside function - num:\", num)\n",
    "\n",
    "    num_list.append(10)\n",
    "    print(\"Inside function - num_list:\", num_list)\n",
    "\n",
    "x = 5\n",
    "\n",
    "lst = [1, 2, 3]\n",
    "\n",
    "modify_values(x, lst)\n",
    "\n",
    "print(\"Outside function - x:\", x)      \n",
    "print(\"Outside function - lst:\", lst)      "
   ]
  },
  {
   "cell_type": "code",
   "execution_count": null,
   "id": "39896398",
   "metadata": {},
   "outputs": [
    {
     "name": "stdout",
     "output_type": "stream",
     "text": [
      "sum :  14\n",
      "difference :  10\n",
      "product :  24\n",
      "division :  6.0\n",
      "modulus :  0\n",
      "floor division :  6\n",
      "exponentiation :  144\n"
     ]
    }
   ],
   "source": [
    "# 7. Write a program that performs basic arithmetic operations on two user-input numbers.\n",
    "\n",
    "# answer\n",
    "num1 = int(input(\"Enter the 1st number: \"))\n",
    "num2 = int(input(\"Enter the 2nd number\"))\n",
    "\n",
    "print(\"sum : \", num1 + num2)\n",
    "print(\"difference : \", num1 - num2)\n",
    "print(\"product : \", num1 * num2)\n",
    "print(\"division : \", num1 / num2)\n",
    "print(\"modulus : \", num1 % num2)\n",
    "print(\"floor division : \", num1 // num2)\n",
    "print(\"exponentiation : \", num1 ** num2)"
   ]
  },
  {
   "cell_type": "code",
   "execution_count": null,
   "id": "8829996d",
   "metadata": {},
   "outputs": [
    {
     "name": "stdout",
     "output_type": "stream",
     "text": [
      "a and b: False\n",
      "a or b: True\n",
      "not a: False\n",
      "not b: True\n"
     ]
    }
   ],
   "source": [
    "# 8. Write a program to demonstrate the use of logical operators.\n",
    "\n",
    "# answer\n",
    "a = True\n",
    "b = False\n",
    "\n",
    "print(\"a and b:\", a and b)\n",
    "\n",
    "print(\"a or b:\", a or b)   \n",
    "\n",
    "print(\"not a:\", not a)      \n",
    "print(\"not b:\", not b)      \n",
    "\n"
   ]
  },
  {
   "cell_type": "code",
   "execution_count": null,
   "id": "54348bd2",
   "metadata": {},
   "outputs": [
    {
     "name": "stdout",
     "output_type": "stream",
     "text": [
      "Integer: 2\n",
      "Float: 2.0\n",
      "Boolean: True\n"
     ]
    }
   ],
   "source": [
    "# 9.  Write a Python program to convert user input from string to integer, float, and boolean types.\n",
    "\n",
    "# answer\n",
    "\n",
    "user_input = input(\"Enter a value: \")\n",
    "\n",
    "int_value = int(user_input)\n",
    "print(\"Integer:\", int_value)\n",
    "\n",
    "float_value = float(user_input)\n",
    "print(\"Float:\", float_value)\n",
    "\n",
    "bool_value = bool(user_input)\n",
    "print(\"Boolean:\", bool_value)"
   ]
  },
  {
   "cell_type": "code",
   "execution_count": null,
   "id": "f0a39021",
   "metadata": {},
   "outputs": [
    {
     "name": "stdout",
     "output_type": "stream",
     "text": [
      "Original: ['1', '2', '3']\n",
      "As integers: [1, 2, 3]\n",
      "Original: ['1', '2', '3']\n",
      "As floats: [1.0, 2.0, 3.0]\n"
     ]
    }
   ],
   "source": [
    "# 10. Write code to demonstrate type casting with list elements.\n",
    "\n",
    "# answer\n",
    "str_list = [\"1\", \"2\", \"3\"]\n",
    "\n",
    "int_list = []\n",
    "\n",
    "float_list = []\n",
    "\n",
    "for i in str_list:\n",
    "    int_list.append(int(i))\n",
    "\n",
    "print(\"Original:\", str_list)\n",
    "print(\"As integers:\", int_list)\n",
    "\n",
    "for i in str_list:\n",
    "    float_list.append(float(i))\n",
    "\n",
    "print(\"Original:\", str_list)\n",
    "print(\"As floats:\", float_list)\n",
    "\n"
   ]
  },
  {
   "cell_type": "code",
   "execution_count": null,
   "id": "bf7477a1",
   "metadata": {},
   "outputs": [
    {
     "name": "stdout",
     "output_type": "stream",
     "text": [
      "number is positive\n"
     ]
    }
   ],
   "source": [
    "# 11.  Write a program that checks if a number is positive, negative, or zero.\n",
    "\n",
    "# answer\n",
    "num = int(input(\"Enter the number: \"))\n",
    "\n",
    "if(num == 0):\n",
    "    print(\"number is zero\")\n",
    "elif(num > 0):\n",
    "    print(\"number is positive\")\n",
    "else:\n",
    "    print(\"number is negative\")    "
   ]
  },
  {
   "cell_type": "code",
   "execution_count": null,
   "id": "f87a8719",
   "metadata": {},
   "outputs": [
    {
     "name": "stdout",
     "output_type": "stream",
     "text": [
      "1\n",
      "2\n",
      "3\n",
      "4\n",
      "5\n",
      "6\n",
      "7\n",
      "8\n",
      "9\n",
      "10\n"
     ]
    }
   ],
   "source": [
    "# 12. Write a for loop to print numbers from 1 to 10.\n",
    "\n",
    "# answer\n",
    "for i in range(1,11):\n",
    "    print(i)"
   ]
  },
  {
   "cell_type": "code",
   "execution_count": null,
   "id": "e3d1719e",
   "metadata": {},
   "outputs": [
    {
     "data": {
      "text/plain": [
       "650"
      ]
     },
     "execution_count": 29,
     "metadata": {},
     "output_type": "execute_result"
    }
   ],
   "source": [
    "# 13.  Write a Python program to find the sum of all even numbers between 1 and 50.\n",
    "\n",
    "# answer\n",
    "even_sum = 0\n",
    "for i in range(1,51):\n",
    "    if i % 2 == 0:\n",
    "        even_sum += i\n",
    "\n",
    "even_sum        "
   ]
  },
  {
   "cell_type": "code",
   "execution_count": null,
   "id": "8a8c5e80",
   "metadata": {},
   "outputs": [
    {
     "name": "stdout",
     "output_type": "stream",
     "text": [
      "Reversed string: nohtyp olleh\n"
     ]
    }
   ],
   "source": [
    "# 14. Write a program to reverse a string using a while loop.\n",
    "\n",
    "# answer\n",
    "text = input(\"Enter a string: \")\n",
    "\n",
    "reversed_text = \"\"\n",
    "index = len(text) - 1\n",
    "\n",
    "while index >= 0:\n",
    "    reversed_text += text[index]\n",
    "    index -= 1\n",
    "\n",
    "print(\"Reversed string:\", reversed_text)"
   ]
  },
  {
   "cell_type": "code",
   "execution_count": null,
   "id": "aa5c4974",
   "metadata": {},
   "outputs": [
    {
     "name": "stdout",
     "output_type": "stream",
     "text": [
      "Factorial of 5 is 120\n"
     ]
    }
   ],
   "source": [
    "# 15.  Write a Python program to calculate the factorial of a number provided by the user using a while loop.\n",
    "\n",
    "# answer\n",
    "num = int(input(\"Enter a non-negative integer: \"))\n",
    "\n",
    "factorial = 1\n",
    "i = 1\n",
    "\n",
    "while i <= num:\n",
    "    factorial *= i\n",
    "    i += 1\n",
    "\n",
    "print(f\"Factorial of {num} is {factorial}\")"
   ]
  },
  {
   "cell_type": "code",
   "execution_count": null,
   "id": "ee39531d",
   "metadata": {},
   "outputs": [],
   "source": []
  }
 ],
 "metadata": {
  "kernelspec": {
   "display_name": "Python 3",
   "language": "python",
   "name": "python3"
  },
  "language_info": {
   "codemirror_mode": {
    "name": "ipython",
    "version": 3
   },
   "file_extension": ".py",
   "mimetype": "text/x-python",
   "name": "python",
   "nbconvert_exporter": "python",
   "pygments_lexer": "ipython3",
   "version": "3.11.11"
  }
 },
 "nbformat": 4,
 "nbformat_minor": 5
}
